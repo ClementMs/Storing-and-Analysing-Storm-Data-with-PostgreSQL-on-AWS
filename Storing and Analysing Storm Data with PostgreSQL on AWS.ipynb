{
 "cells": [
  {
   "cell_type": "markdown",
   "metadata": {},
   "source": [
    "# Table of Contents"
   ]
  },
  {
   "cell_type": "markdown",
   "metadata": {},
   "source": [
    "## I) <a href='#first_part'> Creating a PostgreSQL DB Instance on Amazon RDS</a>\n",
    "## II) <a href='#second_part'>Creating a Table in the PostgreSQL DB</a>\n",
    "## III) <a href='#third_part'>DB Management</a>\n",
    "## IV) <a href='#fourth_part'>Loading the Storm Data into the PostgreSQL DB</a>\n",
    "## V) <a href='#fifth_part'>Updating the PostgreSQL DB</a>\n",
    "## VI) <a href='#sixth_part'>Analysing the Storm Data on Amazon RDS</a>\n",
    "### A) <a href='#subpart_one'>Average Wind Speed, Atmospheric Pressure and Shape Length by Storm Category</a>\n",
    "### B) <a href='#subpart_two'>2005 : Record-Breaking Storm Season</a>\n",
    "#### 1) <a href='#first_query'>Year with the Maximum Number of Storms in North Atlantic</a>\n",
    "#### 2) <a href='#second_query'>Number of Hurricanes in North Atlantic in 2005</a>\n",
    "#### 3) <a href='#third_query'>Number of Category 5 Hurricanes in North Atlantic in 2005</a>\n",
    "#### 4) <a href='#fourth_query'>Storm Duration in North Atlantic in 2005</a>\n",
    "#### 5) <a href='#fifth_query'>Storm with the Lowest Barometric Pressure in North Atlantic</a>\n",
    "#### 6) <a href='#sixth_query'>Total Number of Days with a Named Storm in North Atlantic during the 2005 season</a>\n",
    "#### 7) <a href='#seventh_query'>Hurricane Katrina</a>"
   ]
  },
  {
   "cell_type": "markdown",
   "metadata": {},
   "source": [
    "# I) <a id='first_part'> Creating a PostgreSQL DB Instance on Amazon RDS</a>\n"
   ]
  },
  {
   "cell_type": "markdown",
   "metadata": {},
   "source": [
    "We will import the following library to use PostgreSQL : "
   ]
  },
  {
   "cell_type": "code",
   "execution_count": 1,
   "metadata": {
    "collapsed": true
   },
   "outputs": [],
   "source": [
    "import psycopg2"
   ]
  },
  {
   "cell_type": "markdown",
   "metadata": {},
   "source": [
    "After setting up our instance on Amazon RDS, we can create a new PostgreSQL database, on which we will store the storm data : "
   ]
  },
  {
   "cell_type": "code",
   "execution_count": 2,
   "metadata": {
    "collapsed": true
   },
   "outputs": [],
   "source": [
    "conn = psycopg2.connect(dbname = 'mydatabase', host ='mydbinstance.cv2rhdnhy2zb.eu-west-3.rds.amazonaws.com', \n",
    "port = '5432', user= 'clementmsika', password = 'xxxx')"
   ]
  },
  {
   "cell_type": "code",
   "execution_count": 3,
   "metadata": {
    "collapsed": true
   },
   "outputs": [],
   "source": [
    "cur = conn.cursor()\n",
    "conn.autocommit = True"
   ]
  },
  {
   "cell_type": "code",
   "execution_count": 4,
   "metadata": {
    "collapsed": true
   },
   "outputs": [],
   "source": [
    "cur.execute(\"CREATE DATABASE storm_database ;\")"
   ]
  },
  {
   "cell_type": "code",
   "execution_count": 5,
   "metadata": {
    "collapsed": true
   },
   "outputs": [],
   "source": [
    "conn.close()"
   ]
  },
  {
   "cell_type": "markdown",
   "metadata": {},
   "source": [
    "# II) <a id='#second_part'>Creating a Table in the PostgreSQL DB</a>\n"
   ]
  },
  {
   "cell_type": "markdown",
   "metadata": {},
   "source": [
    "Before creating our table, we need to know the appropriate data types with which we will store the storm data."
   ]
  },
  {
   "cell_type": "markdown",
   "metadata": {},
   "source": [
    "Let's have a look at the first rows of the CSV file : "
   ]
  },
  {
   "cell_type": "code",
   "execution_count": 6,
   "metadata": {},
   "outputs": [
    {
     "name": "stdout",
     "output_type": "stream",
     "text": [
      "['ï»¿FID', 'YEAR', 'MONTH', 'DAY', 'AD_TIME', 'BTID', 'NAME', 'LAT', 'LONG', 'WIND_KTS', 'PRESSURE', 'CAT', 'BASIN', 'Shape_Leng']\n",
      "['2001', '1957', '8', '8', '1800Z', '63', 'NOTNAMED', '22.5', '-140', '50', '0', 'TS', 'Eastern Pacific', '1.140175']\n",
      "['2002', '1961', '10', '3', '1200Z', '116', 'PAULINE', '22.1', '-140.2', '45', '0', 'TS', 'Eastern Pacific', '1.16619']\n",
      "['2003', '1962', '8', '29', '0600Z', '124', 'C', '18', '-140', '45', '0', 'TS', 'Eastern Pacific', '2.10238']\n",
      "['2004', '1967', '7', '14', '0600Z', '168', 'DENISE', '16.6', '-139.5', '45', '0', 'TS', 'Eastern Pacific', '2.12132']\n",
      "['2005', '1972', '8', '16', '1200Z', '251', 'DIANA', '18.5', '-139.8', '70', '0', 'H1', 'Eastern Pacific', '1.702939']\n",
      "['2006', '1976', '7', '22', '0000Z', '312', 'DIANA', '18.6', '-139.8', '30', '0', 'TD', 'Eastern Pacific', '1.6']\n",
      "['2007', '1978', '8', '26', '1200Z', '342', 'KRISTY', '21.4', '-140.2', '45', '0', 'TS', 'Eastern Pacific', '1.30384']\n",
      "['2008', '1980', '9', '24', '1800Z', '371', 'KAY', '20.5', '-140.2', '75', '0', 'H1', 'Eastern Pacific', '1.220656']\n",
      "['2009', '1970', '8', '23', '0000Z', '223', 'MAGGIE', '14.9', '-139.4', '45', '0', 'TS', 'Eastern Pacific', '0.921954']\n"
     ]
    }
   ],
   "source": [
    "import io\n",
    "from urllib import request\n",
    "import csv\n",
    "\n",
    "response = request.urlopen('https://dq-content.s3.amazonaws.com/251/storm_data.csv')\n",
    "reader = csv.reader(io.TextIOWrapper(response))\n",
    "\n",
    "count = 0\n",
    "\n",
    "for line in reader:\n",
    "    if count < 10 : \n",
    "        count += 1\n",
    "        print(line)"
   ]
  },
  {
   "cell_type": "markdown",
   "metadata": {},
   "source": [
    "We will find here the appropriate data type for the column \"NAME\" : "
   ]
  },
  {
   "cell_type": "code",
   "execution_count": 7,
   "metadata": {},
   "outputs": [
    {
     "name": "stdout",
     "output_type": "stream",
     "text": [
      "9\n"
     ]
    }
   ],
   "source": [
    "response = request.urlopen('https://dq-content.s3.amazonaws.com/251/storm_data.csv')\n",
    "reader = csv.reader(io.TextIOWrapper(response))\n",
    "max_length = 0\n",
    "unique_storm_name = set([\n",
    "        row[6] for row in reader])\n",
    "for i in unique_storm_name :\n",
    "    if len(i) > max_length : \n",
    "        max_length = len(i)\n",
    "print(max_length)"
   ]
  },
  {
   "cell_type": "markdown",
   "metadata": {},
   "source": [
    "The maximum length for the column name is 9. We will assign to the column \"NAME\" the data type VARCHAR(9)"
   ]
  },
  {
   "cell_type": "markdown",
   "metadata": {},
   "source": [
    "We will find here the appropriate data type for the column \"BASIN\" : "
   ]
  },
  {
   "cell_type": "code",
   "execution_count": 8,
   "metadata": {},
   "outputs": [
    {
     "name": "stdout",
     "output_type": "stream",
     "text": [
      "15\n"
     ]
    }
   ],
   "source": [
    "response = request.urlopen('https://dq-content.s3.amazonaws.com/251/storm_data.csv')\n",
    "reader = csv.reader(io.TextIOWrapper(response))\n",
    "max_length = 0\n",
    "unique_basin_name = set([\n",
    "        row[12] for row in reader])\n",
    "for i in unique_basin_name :\n",
    "    if len(i) > max_length : \n",
    "        max_length = len(i)\n",
    "print(max_length)"
   ]
  },
  {
   "cell_type": "markdown",
   "metadata": {},
   "source": [
    "The maximum length for the column \"BASIN\" is 15. We will assign to the column \"BASIN\" the data type VARCHAR(15)"
   ]
  },
  {
   "cell_type": "markdown",
   "metadata": {},
   "source": [
    "We will find here the appropriate data type for the column \"Shape_Leng\" : "
   ]
  },
  {
   "cell_type": "code",
   "execution_count": 9,
   "metadata": {},
   "outputs": [
    {
     "name": "stdout",
     "output_type": "stream",
     "text": [
      "10\n"
     ]
    }
   ],
   "source": [
    "response = request.urlopen('https://dq-content.s3.amazonaws.com/251/storm_data.csv')\n",
    "reader = csv.reader(io.TextIOWrapper(response))\n",
    "max_length = 0\n",
    "unique_basin_name = set([\n",
    "        row[-1] for row in reader])\n",
    "for i in unique_basin_name :\n",
    "    if len(i) > max_length : \n",
    "        max_length = len(i)\n",
    "print(max_length)"
   ]
  },
  {
   "cell_type": "markdown",
   "metadata": {},
   "source": [
    "The maximum length for the column \"Shape_Leng\" is 10. We will assign to the column \"Shape_Leng\" the data type DECIMAL(10,8)"
   ]
  },
  {
   "cell_type": "markdown",
   "metadata": {},
   "source": [
    "We can now create a table with the appropriate data types on our new PostgreSQL DB : "
   ]
  },
  {
   "cell_type": "code",
   "execution_count": 10,
   "metadata": {
    "collapsed": true
   },
   "outputs": [],
   "source": [
    "conn = psycopg2.connect(dbname = 'storm_database', host ='mydbinstance.cv2rhdnhy2zb.eu-west-3.rds.amazonaws.com', \n",
    "port = '5432', user = 'clementmsika', password = 'xxxx')"
   ]
  },
  {
   "cell_type": "code",
   "execution_count": 11,
   "metadata": {
    "collapsed": true
   },
   "outputs": [],
   "source": [
    "cur = conn.cursor()"
   ]
  },
  {
   "cell_type": "code",
   "execution_count": 12,
   "metadata": {
    "collapsed": true
   },
   "outputs": [],
   "source": [
    "cur.execute('''\n",
    "\n",
    "CREATE TABLE IF NOT EXISTS storm_table (\n",
    "             \n",
    "fid INTEGER PRIMARY KEY,\n",
    "\n",
    "year SMALLINT,\n",
    "\n",
    "month SMALLINT,\n",
    "\n",
    "day SMALLINT,\n",
    "\n",
    "ad_time TIME, \n",
    "\n",
    "btid SMALLINT,\n",
    "\n",
    "name VARCHAR(9),\n",
    "\n",
    "lat DECIMAL(4,1),\n",
    "\n",
    "long DECIMAL(4,1),\n",
    "\n",
    "wind_kts SMALLINT,\n",
    "\n",
    "pressure SMALLINT,\n",
    "\n",
    "cat VARCHAR(2),\n",
    "\n",
    "basin VARCHAR(15),\n",
    "\n",
    "shape_leng DECIMAL(10,8)\n",
    "\n",
    ")\n",
    "           \n",
    ";\n",
    "           \n",
    "''')"
   ]
  },
  {
   "cell_type": "code",
   "execution_count": 13,
   "metadata": {
    "collapsed": true
   },
   "outputs": [],
   "source": [
    "conn.commit()"
   ]
  },
  {
   "cell_type": "code",
   "execution_count": 14,
   "metadata": {
    "collapsed": true
   },
   "outputs": [],
   "source": [
    "conn.close()"
   ]
  },
  {
   "cell_type": "markdown",
   "metadata": {},
   "source": [
    "# III) <a id='#third_part'>DB Management</a>\n"
   ]
  },
  {
   "cell_type": "markdown",
   "metadata": {},
   "source": [
    "Before loading our data into our database, we will manage the privileges on the newly created table."
   ]
  },
  {
   "cell_type": "markdown",
   "metadata": {},
   "source": [
    "Firstly, we will create a user \"tornado\" who can select, insert and update the data in the table : "
   ]
  },
  {
   "cell_type": "code",
   "execution_count": 15,
   "metadata": {
    "collapsed": true
   },
   "outputs": [],
   "source": [
    "conn = psycopg2.connect(dbname = 'storm_database', host = 'mydbinstance.cv2rhdnhy2zb.eu-west-3.rds.amazonaws.com', \n",
    "port = '5432', user = 'clementmsika', password = 'xxxx')\n",
    "cur = conn.cursor()"
   ]
  },
  {
   "cell_type": "code",
   "execution_count": 16,
   "metadata": {
    "collapsed": true
   },
   "outputs": [],
   "source": [
    "cur.execute(\"CREATE USER tornado WITH PASSWORD 'i_love_storms' ;\")\n",
    "\n",
    "cur.execute(\"REVOKE ALL ON storm_table FROM tornado;\")\n",
    "\n",
    "cur.execute(\"GRANT SELECT, INSERT, UPDATE ON storm_table TO tornado ;\")"
   ]
  },
  {
   "cell_type": "markdown",
   "metadata": {},
   "source": [
    "Secondly, we will create the group \"analysts\" who can only read the data in storm_table : "
   ]
  },
  {
   "cell_type": "code",
   "execution_count": 17,
   "metadata": {
    "collapsed": true
   },
   "outputs": [],
   "source": [
    "cur.execute(\"CREATE GROUP analysts NOLOGIN ;\")\n",
    "\n",
    "cur.execute(\"REVOKE ALL ON storm_table FROM analysts ;\")\n",
    "\n",
    "cur.execute(\"GRANT SELECT ON storm_table TO analysts ;\")"
   ]
  },
  {
   "cell_type": "markdown",
   "metadata": {},
   "source": [
    "Thirdly, we will create the user \"first_analyst\" and assign the group \"analysts\" to this user : "
   ]
  },
  {
   "cell_type": "code",
   "execution_count": 18,
   "metadata": {
    "collapsed": true
   },
   "outputs": [],
   "source": [
    "cur.execute(\"CREATE USER first_analyst WITH PASSWORD 'i_analyse_storm_data' ;\")\n",
    "\n",
    "cur.execute(\"REVOKE ALL ON storm_table FROM first_analyst ;\")\n",
    "\n",
    "cur.execute(\"GRANT analysts TO first_analyst ;\")"
   ]
  },
  {
   "cell_type": "markdown",
   "metadata": {},
   "source": [
    "Finally, we will create the user \"second_analyst\" and assign the group \"analysts\" to this user : "
   ]
  },
  {
   "cell_type": "code",
   "execution_count": 19,
   "metadata": {
    "collapsed": true
   },
   "outputs": [],
   "source": [
    "cur.execute(\"CREATE USER second_analyst WITH PASSWORD 'i_predict_storms' ;\")\n",
    "\n",
    "cur.execute(\"REVOKE ALL ON storm_table FROM second_analyst ;\")\n",
    "\n",
    "cur.execute(\"GRANT analysts TO second_analyst ;\")"
   ]
  },
  {
   "cell_type": "code",
   "execution_count": 20,
   "metadata": {
    "collapsed": true
   },
   "outputs": [],
   "source": [
    "conn.commit()"
   ]
  },
  {
   "cell_type": "code",
   "execution_count": 21,
   "metadata": {
    "collapsed": true
   },
   "outputs": [],
   "source": [
    "conn.close()"
   ]
  },
  {
   "cell_type": "markdown",
   "metadata": {},
   "source": [
    "# IV) <a id='#fourth_part'>Loading the Storm Data into the PostgreSQL DB</a>"
   ]
  },
  {
   "cell_type": "markdown",
   "metadata": {},
   "source": [
    "Now, we can connect to the DB as the user \"tornado\" and load the storm data into the DB :  "
   ]
  },
  {
   "cell_type": "code",
   "execution_count": 22,
   "metadata": {
    "collapsed": true
   },
   "outputs": [],
   "source": [
    "conn = psycopg2.connect(dbname = 'storm_database', host ='mydbinstance.cv2rhdnhy2zb.eu-west-3.rds.amazonaws.com', \n",
    "port = '5432', user = 'tornado', password = 'i_love_storms')\n",
    "cur = conn.cursor()"
   ]
  },
  {
   "cell_type": "code",
   "execution_count": 23,
   "metadata": {
    "collapsed": true
   },
   "outputs": [],
   "source": [
    "with open(\"storm_data.csv\", \"r\") as f:\n",
    "    reader = csv.reader(f)\n",
    "    next(reader)\n",
    "    cur.copy_from(f, \"storm_table\", sep = \",\")"
   ]
  },
  {
   "cell_type": "code",
   "execution_count": 24,
   "metadata": {
    "collapsed": true
   },
   "outputs": [],
   "source": [
    "conn.commit()"
   ]
  },
  {
   "cell_type": "code",
   "execution_count": 25,
   "metadata": {
    "collapsed": true
   },
   "outputs": [],
   "source": [
    "conn.close()"
   ]
  },
  {
   "cell_type": "markdown",
   "metadata": {},
   "source": [
    "# V) <a id='#fifth_part'>Updating the PostgreSQL DB</a>\n"
   ]
  },
  {
   "cell_type": "markdown",
   "metadata": {},
   "source": [
    "We will here create a single column \"date\", which concatenates the information included in the columns \"year\", \"month\", \"day\" and \"ad_time\" : "
   ]
  },
  {
   "cell_type": "code",
   "execution_count": 26,
   "metadata": {
    "collapsed": true
   },
   "outputs": [],
   "source": [
    "conn = psycopg2.connect(dbname = 'storm_database', host ='mydbinstance.cv2rhdnhy2zb.eu-west-3.rds.amazonaws.com', \n",
    "port = '5432', user = 'clementmsika', password = 'xxxx')"
   ]
  },
  {
   "cell_type": "code",
   "execution_count": 27,
   "metadata": {
    "collapsed": true
   },
   "outputs": [],
   "source": [
    "cur = conn.cursor()"
   ]
  },
  {
   "cell_type": "code",
   "execution_count": 28,
   "metadata": {
    "collapsed": true
   },
   "outputs": [],
   "source": [
    "cur.execute(\"ALTER TABLE storm_table ADD COLUMN date TIMESTAMP ;\")"
   ]
  },
  {
   "cell_type": "code",
   "execution_count": 29,
   "metadata": {
    "collapsed": true
   },
   "outputs": [],
   "source": [
    "cur.execute(\"UPDATE storm_table SET date = to_timestamp(year || '-' || month || '-' || day || ' ' || ad_time, 'YYYY-MM-DD HH24:MI:SS') ; \")"
   ]
  },
  {
   "cell_type": "code",
   "execution_count": 30,
   "metadata": {
    "collapsed": true
   },
   "outputs": [],
   "source": [
    "cur.execute('''\n",
    "\n",
    "ALTER TABLE storm_table \n",
    "\n",
    "DROP COLUMN year,\n",
    "\n",
    "DROP COLUMN month,\n",
    "\n",
    "DROP COLUMN day,\n",
    "\n",
    "DROP COLUMN ad_time\n",
    "\n",
    ";\n",
    "\n",
    "''')"
   ]
  },
  {
   "cell_type": "code",
   "execution_count": 31,
   "metadata": {
    "collapsed": true
   },
   "outputs": [],
   "source": [
    "conn.commit()"
   ]
  },
  {
   "cell_type": "code",
   "execution_count": 32,
   "metadata": {
    "collapsed": true
   },
   "outputs": [],
   "source": [
    "conn.close()"
   ]
  },
  {
   "cell_type": "markdown",
   "metadata": {},
   "source": [
    "# VI) <a id='#sixth_part'>Analysing the Storm Data on Amazon RDS</a>"
   ]
  },
  {
   "cell_type": "code",
   "execution_count": 33,
   "metadata": {
    "collapsed": true
   },
   "outputs": [],
   "source": [
    "import pandas as pd\n",
    "import matplotlib.pyplot as plt\n",
    "%matplotlib inline"
   ]
  },
  {
   "cell_type": "code",
   "execution_count": 34,
   "metadata": {
    "collapsed": true
   },
   "outputs": [],
   "source": [
    "conn = psycopg2.connect(dbname = 'storm_database', host ='mydbinstance.cv2rhdnhy2zb.eu-west-3.rds.amazonaws.com', \n",
    "port = '5432', user = 'first_analyst', password = 'i_analyse_storm_data')"
   ]
  },
  {
   "cell_type": "markdown",
   "metadata": {},
   "source": [
    "Here is the glossary of the National Hurricane Center (NHC) terms : https://www.nhc.noaa.gov/aboutgloss.shtml"
   ]
  },
  {
   "cell_type": "markdown",
   "metadata": {},
   "source": [
    "## A) <a id='#subpart_one'>Average Wind Speed, Atmospheric Pressure and Shape Length by Storm Category</a>"
   ]
  },
  {
   "cell_type": "markdown",
   "metadata": {},
   "source": [
    "Let's calculate the average wind speed (in knots per second), atmospheric pressure and shape length for the 7 storm categories : Tropical Depression (TD), Tropical Storm (TS), H1, H2, H3, H4 and H5 . We will remove the data where we have the value 0 mbar as atmospheric pressure : "
   ]
  },
  {
   "cell_type": "code",
   "execution_count": 35,
   "metadata": {
    "collapsed": true
   },
   "outputs": [],
   "source": [
    "query_average_wind_speed_pressure_shape_length = '''\n",
    "\n",
    "SELECT\n",
    "\n",
    "cat category,\n",
    "\n",
    "AVG(wind_kts) average_wind_speed,\n",
    "\n",
    "AVG(pressure) average_atmospheric_pressure,\n",
    "\n",
    "AVG(shape_leng) average_shape_length\n",
    "\n",
    "FROM storm_table\n",
    "\n",
    "WHERE pressure > 0\n",
    "\n",
    "GROUP BY cat\n",
    "\n",
    "HAVING cat = 'TD' OR cat = 'TS' OR cat = 'H1' OR cat = 'H2' OR cat = 'H3' OR cat = 'H4' OR cat = 'H5'\n",
    "\n",
    "ORDER BY 2\n",
    "\n",
    ";\n",
    "\n",
    "'''"
   ]
  },
  {
   "cell_type": "code",
   "execution_count": 36,
   "metadata": {},
   "outputs": [
    {
     "data": {
      "text/html": [
       "<div>\n",
       "<style scoped>\n",
       "    .dataframe tbody tr th:only-of-type {\n",
       "        vertical-align: middle;\n",
       "    }\n",
       "\n",
       "    .dataframe tbody tr th {\n",
       "        vertical-align: top;\n",
       "    }\n",
       "\n",
       "    .dataframe thead th {\n",
       "        text-align: right;\n",
       "    }\n",
       "</style>\n",
       "<table border=\"1\" class=\"dataframe\">\n",
       "  <thead>\n",
       "    <tr style=\"text-align: right;\">\n",
       "      <th></th>\n",
       "      <th>category</th>\n",
       "      <th>average_wind_speed</th>\n",
       "      <th>average_atmospheric_pressure</th>\n",
       "      <th>average_shape_length</th>\n",
       "    </tr>\n",
       "  </thead>\n",
       "  <tbody>\n",
       "    <tr>\n",
       "      <th>0</th>\n",
       "      <td>TD</td>\n",
       "      <td>27.460480</td>\n",
       "      <td>1007.437539</td>\n",
       "      <td>1.014611</td>\n",
       "    </tr>\n",
       "    <tr>\n",
       "      <th>1</th>\n",
       "      <td>TS</td>\n",
       "      <td>45.717167</td>\n",
       "      <td>999.049912</td>\n",
       "      <td>1.116699</td>\n",
       "    </tr>\n",
       "    <tr>\n",
       "      <th>2</th>\n",
       "      <td>H1</td>\n",
       "      <td>71.064881</td>\n",
       "      <td>982.780655</td>\n",
       "      <td>1.245807</td>\n",
       "    </tr>\n",
       "    <tr>\n",
       "      <th>3</th>\n",
       "      <td>H2</td>\n",
       "      <td>89.546277</td>\n",
       "      <td>969.295755</td>\n",
       "      <td>1.201254</td>\n",
       "    </tr>\n",
       "    <tr>\n",
       "      <th>4</th>\n",
       "      <td>H3</td>\n",
       "      <td>104.322421</td>\n",
       "      <td>957.001984</td>\n",
       "      <td>1.166742</td>\n",
       "    </tr>\n",
       "    <tr>\n",
       "      <th>5</th>\n",
       "      <td>H4</td>\n",
       "      <td>121.521480</td>\n",
       "      <td>941.684964</td>\n",
       "      <td>1.131484</td>\n",
       "    </tr>\n",
       "    <tr>\n",
       "      <th>6</th>\n",
       "      <td>H5</td>\n",
       "      <td>144.349593</td>\n",
       "      <td>918.317073</td>\n",
       "      <td>1.112514</td>\n",
       "    </tr>\n",
       "  </tbody>\n",
       "</table>\n",
       "</div>"
      ],
      "text/plain": [
       "  category  average_wind_speed  average_atmospheric_pressure  \\\n",
       "0       TD           27.460480                   1007.437539   \n",
       "1       TS           45.717167                    999.049912   \n",
       "2       H1           71.064881                    982.780655   \n",
       "3       H2           89.546277                    969.295755   \n",
       "4       H3          104.322421                    957.001984   \n",
       "5       H4          121.521480                    941.684964   \n",
       "6       H5          144.349593                    918.317073   \n",
       "\n",
       "   average_shape_length  \n",
       "0              1.014611  \n",
       "1              1.116699  \n",
       "2              1.245807  \n",
       "3              1.201254  \n",
       "4              1.166742  \n",
       "5              1.131484  \n",
       "6              1.112514  "
      ]
     },
     "execution_count": 36,
     "metadata": {},
     "output_type": "execute_result"
    }
   ],
   "source": [
    "storm_data_by_category = pd.read_sql_query(query_average_wind_speed_pressure_shape_length,con=conn)\n",
    "storm_data_by_category"
   ]
  },
  {
   "cell_type": "code",
   "execution_count": 37,
   "metadata": {},
   "outputs": [
    {
     "data": {
      "image/png": "[encoded data removed]",
      "text/plain": [
       "<matplotlib.figure.Figure at 0x1d74aac1fd0>"
      ]
     },
     "metadata": {},
     "output_type": "display_data"
    },
    {
     "data": {
      "image/png": "[encoded data removed]",
      "text/plain": [
       "<matplotlib.figure.Figure at 0x1d74ad67fd0>"
      ]
     },
     "metadata": {},
     "output_type": "display_data"
    }
   ],
   "source": [
    "plt.rcParams.update({'font.size': 15})\n",
    "\n",
    "\n",
    "ax1 = storm_data_by_category.plot.bar(x='category',\n",
    "                                y='average_wind_speed',\n",
    "                                figsize=(16,8),\n",
    "                                title=\"Average Wind Speed (kts) by Storm Category\"\n",
    "                                )\n",
    "plt.xticks(rotation=360)\n",
    "\n",
    "ax2 = storm_data_by_category.plot.bar(x='category',\n",
    "                                y='average_atmospheric_pressure',\n",
    "                                figsize=(16,8),\n",
    "                                title=\"Average Atmospheric Pressure (mbar) by Storm Category\"\n",
    "                                )\n",
    "\n",
    "ax1.legend().set_visible(False)\n",
    "ax2.legend().set_visible(False)\n",
    "\n",
    "plt.xticks(rotation=360)\n",
    "\n",
    "ax1.xaxis.set_label_text(\"\")\n",
    "ax2.xaxis.set_label_text(\"\")\n",
    "\n",
    "plt.ylim(900, 1020)\n",
    "\n",
    "plt.show()"
   ]
  },
  {
   "cell_type": "markdown",
   "metadata": {},
   "source": [
    "We can compare these results with the descriptions of the tropical cyclone categories here : https://en.wikipedia.org/wiki/Tropical_cyclone_scales"
   ]
  },
  {
   "cell_type": "markdown",
   "metadata": {},
   "source": [
    "Here is another interesting article on storm measures : https://www.wired.com/2012/11/what-is-the-true-measure-of-a-storm/"
   ]
  },
  {
   "cell_type": "markdown",
   "metadata": {},
   "source": [
    "## B) <a id='#subpart_two'>2005 : Record-Breaking Storm Season</a>"
   ]
  },
  {
   "cell_type": "markdown",
   "metadata": {},
   "source": [
    "With 8 queries, we will analyse the year 2005 in the North Atlantic basin. Our analysis is inspired by this article : https://weather.com/storms/hurricane/news/2005-hurricane-season-by-the-numbers"
   ]
  },
  {
   "cell_type": "markdown",
   "metadata": {},
   "source": [
    "### 1) <a id='#first_query'>Year with the Maximum Number of Storms in North Atlantic</a>"
   ]
  },
  {
   "cell_type": "code",
   "execution_count": 38,
   "metadata": {
    "collapsed": true
   },
   "outputs": [],
   "source": [
    "query_maximum_number_of_storms_north_atlantic = '''\n",
    "\n",
    "WITH number_of_storms_by_year_north_atlantic_table AS \n",
    "\n",
    "(\n",
    "\n",
    "SELECT \n",
    "\n",
    "EXTRACT(YEAR from date) \"year\",\n",
    "\n",
    "COUNT(DISTINCT(name)) number_of_storms\n",
    "\n",
    "FROM storm_table\n",
    "\n",
    "WHERE basin = 'North Atlantic'\n",
    "\n",
    "GROUP BY 1\n",
    "\n",
    ")\n",
    "\n",
    "SELECT \n",
    "\n",
    "year,\n",
    "\n",
    "number_of_storms maximum_number_of_storms_north_atlantic\n",
    "\n",
    "FROM \n",
    "\n",
    "number_of_storms_by_year_north_atlantic_table\n",
    "\n",
    "WHERE number_of_storms = \n",
    "\n",
    "(\n",
    "\n",
    "SELECT \n",
    "\n",
    "MAX(number_of_storms)\n",
    "\n",
    "FROM \n",
    "\n",
    "number_of_storms_by_year_north_atlantic_table\n",
    "\n",
    ")\n",
    "\n",
    ";\n",
    "\n",
    "'''"
   ]
  },
  {
   "cell_type": "code",
   "execution_count": 39,
   "metadata": {},
   "outputs": [
    {
     "data": {
      "text/html": [
       "<div>\n",
       "<style scoped>\n",
       "    .dataframe tbody tr th:only-of-type {\n",
       "        vertical-align: middle;\n",
       "    }\n",
       "\n",
       "    .dataframe tbody tr th {\n",
       "        vertical-align: top;\n",
       "    }\n",
       "\n",
       "    .dataframe thead th {\n",
       "        text-align: right;\n",
       "    }\n",
       "</style>\n",
       "<table border=\"1\" class=\"dataframe\">\n",
       "  <thead>\n",
       "    <tr style=\"text-align: right;\">\n",
       "      <th></th>\n",
       "      <th>year</th>\n",
       "      <th>maximum_number_of_storms_north_atlantic</th>\n",
       "    </tr>\n",
       "  </thead>\n",
       "  <tbody>\n",
       "    <tr>\n",
       "      <th>0</th>\n",
       "      <td>2005.0</td>\n",
       "      <td>28</td>\n",
       "    </tr>\n",
       "  </tbody>\n",
       "</table>\n",
       "</div>"
      ],
      "text/plain": [
       "     year  maximum_number_of_storms_north_atlantic\n",
       "0  2005.0                                       28"
      ]
     },
     "execution_count": 39,
     "metadata": {},
     "output_type": "execute_result"
    }
   ],
   "source": [
    "pd.read_sql_query(query_maximum_number_of_storms_north_atlantic,con=conn)"
   ]
  },
  {
   "cell_type": "markdown",
   "metadata": {},
   "source": [
    "### 2) <a id='#second_query'>Number of Hurricanes in North Atlantic in 2005</a>"
   ]
  },
  {
   "cell_type": "code",
   "execution_count": 40,
   "metadata": {
    "collapsed": true
   },
   "outputs": [],
   "source": [
    "query_number_of_hurricanes_north_atlantic_2005 = '''\n",
    "\n",
    "SELECT \n",
    "\n",
    "COUNT(DISTINCT(name)) number_of_hurricanes_north_atlantic_2005\n",
    "\n",
    "FROM storm_table\n",
    "\n",
    "WHERE basin = 'North Atlantic'\n",
    "\n",
    "AND (cat = 'H1' OR cat = 'H2' OR cat = 'H3' OR cat = 'H4' OR cat = 'H5')\n",
    "\n",
    "AND EXTRACT(YEAR from date) = 2005\n",
    "\n",
    ";\n",
    "\n",
    "'''"
   ]
  },
  {
   "cell_type": "code",
   "execution_count": 41,
   "metadata": {},
   "outputs": [
    {
     "data": {
      "text/html": [
       "<div>\n",
       "<style scoped>\n",
       "    .dataframe tbody tr th:only-of-type {\n",
       "        vertical-align: middle;\n",
       "    }\n",
       "\n",
       "    .dataframe tbody tr th {\n",
       "        vertical-align: top;\n",
       "    }\n",
       "\n",
       "    .dataframe thead th {\n",
       "        text-align: right;\n",
       "    }\n",
       "</style>\n",
       "<table border=\"1\" class=\"dataframe\">\n",
       "  <thead>\n",
       "    <tr style=\"text-align: right;\">\n",
       "      <th></th>\n",
       "      <th>number_of_hurricanes_north_atlantic_2005</th>\n",
       "    </tr>\n",
       "  </thead>\n",
       "  <tbody>\n",
       "    <tr>\n",
       "      <th>0</th>\n",
       "      <td>15</td>\n",
       "    </tr>\n",
       "  </tbody>\n",
       "</table>\n",
       "</div>"
      ],
      "text/plain": [
       "   number_of_hurricanes_north_atlantic_2005\n",
       "0                                        15"
      ]
     },
     "execution_count": 41,
     "metadata": {},
     "output_type": "execute_result"
    }
   ],
   "source": [
    "pd.read_sql_query(query_number_of_hurricanes_north_atlantic_2005,con=conn)"
   ]
  },
  {
   "cell_type": "markdown",
   "metadata": {},
   "source": [
    "### 3) <a id='#third_query'>Number of Category 5 Hurricanes in North Atlantic in 2005</a>"
   ]
  },
  {
   "cell_type": "code",
   "execution_count": 42,
   "metadata": {
    "collapsed": true
   },
   "outputs": [],
   "source": [
    "query_number_of_h5_hurricanes_north_atlantic_2005 = '''\n",
    "\n",
    "SELECT \n",
    "\n",
    "COUNT(DISTINCT(name)) number_of_category_5_hurricanes_north_atlantic_2005\n",
    "\n",
    "FROM storm_table\n",
    "\n",
    "WHERE basin = 'North Atlantic'\n",
    "\n",
    "AND cat = 'H5'\n",
    "\n",
    "AND EXTRACT(YEAR from date) = 2005\n",
    "\n",
    ";\n",
    "\n",
    "'''"
   ]
  },
  {
   "cell_type": "code",
   "execution_count": 43,
   "metadata": {},
   "outputs": [
    {
     "data": {
      "text/html": [
       "<div>\n",
       "<style scoped>\n",
       "    .dataframe tbody tr th:only-of-type {\n",
       "        vertical-align: middle;\n",
       "    }\n",
       "\n",
       "    .dataframe tbody tr th {\n",
       "        vertical-align: top;\n",
       "    }\n",
       "\n",
       "    .dataframe thead th {\n",
       "        text-align: right;\n",
       "    }\n",
       "</style>\n",
       "<table border=\"1\" class=\"dataframe\">\n",
       "  <thead>\n",
       "    <tr style=\"text-align: right;\">\n",
       "      <th></th>\n",
       "      <th>number_of_category_5_hurricanes_north_atlantic_2005</th>\n",
       "    </tr>\n",
       "  </thead>\n",
       "  <tbody>\n",
       "    <tr>\n",
       "      <th>0</th>\n",
       "      <td>4</td>\n",
       "    </tr>\n",
       "  </tbody>\n",
       "</table>\n",
       "</div>"
      ],
      "text/plain": [
       "   number_of_category_5_hurricanes_north_atlantic_2005\n",
       "0                                                  4  "
      ]
     },
     "execution_count": 43,
     "metadata": {},
     "output_type": "execute_result"
    }
   ],
   "source": [
    "pd.read_sql_query(query_number_of_h5_hurricanes_north_atlantic_2005,con=conn)"
   ]
  },
  {
   "cell_type": "markdown",
   "metadata": {},
   "source": [
    "### 4) <a id='#fourth_query'>Storm Duration in North Atlantic in 2005</a>"
   ]
  },
  {
   "cell_type": "markdown",
   "metadata": {},
   "source": [
    "To calculate the storm duration in North Atlantic in 2005, we will remove two outliers : the storms Zeta and Jose."
   ]
  },
  {
   "cell_type": "code",
   "execution_count": 44,
   "metadata": {
    "collapsed": true
   },
   "outputs": [],
   "source": [
    "query_storm_duration_north_atlantic_2005 = '''\n",
    "\n",
    "WITH north_atlantic_2005_table AS\n",
    "\n",
    "(\n",
    "\n",
    "SELECT \n",
    "\n",
    "*\n",
    "\n",
    "FROM storm_table\n",
    "\n",
    "WHERE basin = 'North Atlantic'\n",
    "\n",
    "AND EXTRACT(YEAR FROM date) = 2005\n",
    "\n",
    "ORDER BY date\n",
    "\n",
    ")\n",
    "\n",
    "SELECT \n",
    "\n",
    "name,\n",
    "\n",
    "MIN(date) starting_date,\n",
    "\n",
    "MAX(date) ending_date,\n",
    "\n",
    "AGE(MAX(date), MIN(date)) storm_duration,\n",
    "\n",
    "EXTRACT(DAY FROM AGE(MAX(date), MIN(date))) number_of_days\n",
    "\n",
    "FROM north_atlantic_2005_table\n",
    "\n",
    "WHERE name != 'ZETA' AND name != 'JOSE'\n",
    "\n",
    "GROUP BY name\n",
    "\n",
    "ORDER BY storm_duration DESC\n",
    "\n",
    ";\n",
    "\n",
    "'''"
   ]
  },
  {
   "cell_type": "code",
   "execution_count": 45,
   "metadata": {},
   "outputs": [
    {
     "data": {
      "text/html": [
       "<div>\n",
       "<style scoped>\n",
       "    .dataframe tbody tr th:only-of-type {\n",
       "        vertical-align: middle;\n",
       "    }\n",
       "\n",
       "    .dataframe tbody tr th {\n",
       "        vertical-align: top;\n",
       "    }\n",
       "\n",
       "    .dataframe thead th {\n",
       "        text-align: right;\n",
       "    }\n",
       "</style>\n",
       "<table border=\"1\" class=\"dataframe\">\n",
       "  <thead>\n",
       "    <tr style=\"text-align: right;\">\n",
       "      <th></th>\n",
       "      <th>name</th>\n",
       "      <th>starting_date</th>\n",
       "      <th>ending_date</th>\n",
       "      <th>storm_duration</th>\n",
       "      <th>number_of_days</th>\n",
       "    </tr>\n",
       "  </thead>\n",
       "  <tbody>\n",
       "    <tr>\n",
       "      <th>0</th>\n",
       "      <td>OPHELIA</td>\n",
       "      <td>2005-09-06 06:00:00</td>\n",
       "      <td>2005-09-22 18:00:00</td>\n",
       "      <td>16 days 12:00:00</td>\n",
       "      <td>16.0</td>\n",
       "    </tr>\n",
       "    <tr>\n",
       "      <th>1</th>\n",
       "      <td>IRENE</td>\n",
       "      <td>2005-08-04 18:00:00</td>\n",
       "      <td>2005-08-18 06:00:00</td>\n",
       "      <td>13 days 12:00:00</td>\n",
       "      <td>13.0</td>\n",
       "    </tr>\n",
       "    <tr>\n",
       "      <th>2</th>\n",
       "      <td>DENNIS</td>\n",
       "      <td>2005-07-04 18:00:00</td>\n",
       "      <td>2005-07-18 00:00:00</td>\n",
       "      <td>13 days 06:00:00</td>\n",
       "      <td>13.0</td>\n",
       "    </tr>\n",
       "    <tr>\n",
       "      <th>3</th>\n",
       "      <td>MARIA</td>\n",
       "      <td>2005-09-01 12:00:00</td>\n",
       "      <td>2005-09-13 18:00:00</td>\n",
       "      <td>12 days 06:00:00</td>\n",
       "      <td>12.0</td>\n",
       "    </tr>\n",
       "    <tr>\n",
       "      <th>4</th>\n",
       "      <td>HARVEY</td>\n",
       "      <td>2005-08-02 18:00:00</td>\n",
       "      <td>2005-08-13 18:00:00</td>\n",
       "      <td>11 days 00:00:00</td>\n",
       "      <td>11.0</td>\n",
       "    </tr>\n",
       "    <tr>\n",
       "      <th>5</th>\n",
       "      <td>WILMA</td>\n",
       "      <td>2005-10-15 18:00:00</td>\n",
       "      <td>2005-10-26 12:00:00</td>\n",
       "      <td>10 days 18:00:00</td>\n",
       "      <td>10.0</td>\n",
       "    </tr>\n",
       "    <tr>\n",
       "      <th>6</th>\n",
       "      <td>EMILY</td>\n",
       "      <td>2005-07-11 00:00:00</td>\n",
       "      <td>2005-07-21 06:00:00</td>\n",
       "      <td>10 days 06:00:00</td>\n",
       "      <td>10.0</td>\n",
       "    </tr>\n",
       "    <tr>\n",
       "      <th>7</th>\n",
       "      <td>EPSILON</td>\n",
       "      <td>2005-11-29 06:00:00</td>\n",
       "      <td>2005-12-09 12:00:00</td>\n",
       "      <td>10 days 06:00:00</td>\n",
       "      <td>10.0</td>\n",
       "    </tr>\n",
       "    <tr>\n",
       "      <th>8</th>\n",
       "      <td>DELTA</td>\n",
       "      <td>2005-11-19 12:00:00</td>\n",
       "      <td>2005-11-29 12:00:00</td>\n",
       "      <td>10 days 00:00:00</td>\n",
       "      <td>10.0</td>\n",
       "    </tr>\n",
       "    <tr>\n",
       "      <th>9</th>\n",
       "      <td>FRANKLIN</td>\n",
       "      <td>2005-07-21 18:00:00</td>\n",
       "      <td>2005-07-30 18:00:00</td>\n",
       "      <td>9 days 00:00:00</td>\n",
       "      <td>9.0</td>\n",
       "    </tr>\n",
       "    <tr>\n",
       "      <th>10</th>\n",
       "      <td>RITA</td>\n",
       "      <td>2005-09-18 00:00:00</td>\n",
       "      <td>2005-09-26 00:00:00</td>\n",
       "      <td>8 days 00:00:00</td>\n",
       "      <td>8.0</td>\n",
       "    </tr>\n",
       "    <tr>\n",
       "      <th>11</th>\n",
       "      <td>GAMMA</td>\n",
       "      <td>2005-11-14 00:00:00</td>\n",
       "      <td>2005-11-21 18:00:00</td>\n",
       "      <td>7 days 18:00:00</td>\n",
       "      <td>7.0</td>\n",
       "    </tr>\n",
       "    <tr>\n",
       "      <th>12</th>\n",
       "      <td>KATRINA</td>\n",
       "      <td>2005-08-23 18:00:00</td>\n",
       "      <td>2005-08-31 00:00:00</td>\n",
       "      <td>7 days 06:00:00</td>\n",
       "      <td>7.0</td>\n",
       "    </tr>\n",
       "    <tr>\n",
       "      <th>13</th>\n",
       "      <td>CINDY</td>\n",
       "      <td>2005-07-03 18:00:00</td>\n",
       "      <td>2005-07-11 00:00:00</td>\n",
       "      <td>7 days 06:00:00</td>\n",
       "      <td>7.0</td>\n",
       "    </tr>\n",
       "    <tr>\n",
       "      <th>14</th>\n",
       "      <td>NATE</td>\n",
       "      <td>2005-09-05 18:00:00</td>\n",
       "      <td>2005-09-12 12:00:00</td>\n",
       "      <td>6 days 18:00:00</td>\n",
       "      <td>6.0</td>\n",
       "    </tr>\n",
       "    <tr>\n",
       "      <th>15</th>\n",
       "      <td>PHILIPPE</td>\n",
       "      <td>2005-09-17 12:00:00</td>\n",
       "      <td>2005-09-24 00:00:00</td>\n",
       "      <td>6 days 12:00:00</td>\n",
       "      <td>6.0</td>\n",
       "    </tr>\n",
       "    <tr>\n",
       "      <th>16</th>\n",
       "      <td>LEE</td>\n",
       "      <td>2005-08-28 12:00:00</td>\n",
       "      <td>2005-09-03 12:00:00</td>\n",
       "      <td>6 days 00:00:00</td>\n",
       "      <td>6.0</td>\n",
       "    </tr>\n",
       "    <tr>\n",
       "      <th>17</th>\n",
       "      <td>ARLENE</td>\n",
       "      <td>2005-06-08 18:00:00</td>\n",
       "      <td>2005-06-14 00:00:00</td>\n",
       "      <td>5 days 06:00:00</td>\n",
       "      <td>5.0</td>\n",
       "    </tr>\n",
       "    <tr>\n",
       "      <th>18</th>\n",
       "      <td>BETA</td>\n",
       "      <td>2005-10-26 18:00:00</td>\n",
       "      <td>2005-10-30 18:00:00</td>\n",
       "      <td>4 days 00:00:00</td>\n",
       "      <td>4.0</td>\n",
       "    </tr>\n",
       "    <tr>\n",
       "      <th>19</th>\n",
       "      <td>STAN</td>\n",
       "      <td>2005-10-01 12:00:00</td>\n",
       "      <td>2005-10-05 00:00:00</td>\n",
       "      <td>3 days 12:00:00</td>\n",
       "      <td>3.0</td>\n",
       "    </tr>\n",
       "    <tr>\n",
       "      <th>20</th>\n",
       "      <td>VINCE</td>\n",
       "      <td>2005-10-08 06:00:00</td>\n",
       "      <td>2005-10-11 06:00:00</td>\n",
       "      <td>3 days 00:00:00</td>\n",
       "      <td>3.0</td>\n",
       "    </tr>\n",
       "    <tr>\n",
       "      <th>21</th>\n",
       "      <td>ALPHA</td>\n",
       "      <td>2005-10-22 12:00:00</td>\n",
       "      <td>2005-10-24 12:00:00</td>\n",
       "      <td>2 days 00:00:00</td>\n",
       "      <td>2.0</td>\n",
       "    </tr>\n",
       "    <tr>\n",
       "      <th>22</th>\n",
       "      <td>GERT</td>\n",
       "      <td>2005-07-23 18:00:00</td>\n",
       "      <td>2005-07-25 12:00:00</td>\n",
       "      <td>1 days 18:00:00</td>\n",
       "      <td>1.0</td>\n",
       "    </tr>\n",
       "    <tr>\n",
       "      <th>23</th>\n",
       "      <td>TAMMY</td>\n",
       "      <td>2005-10-05 06:00:00</td>\n",
       "      <td>2005-10-06 18:00:00</td>\n",
       "      <td>1 days 12:00:00</td>\n",
       "      <td>1.0</td>\n",
       "    </tr>\n",
       "    <tr>\n",
       "      <th>24</th>\n",
       "      <td>SUBTROP</td>\n",
       "      <td>2005-10-04 00:00:00</td>\n",
       "      <td>2005-10-05 06:00:00</td>\n",
       "      <td>1 days 06:00:00</td>\n",
       "      <td>1.0</td>\n",
       "    </tr>\n",
       "    <tr>\n",
       "      <th>25</th>\n",
       "      <td>BRET</td>\n",
       "      <td>2005-06-28 18:00:00</td>\n",
       "      <td>2005-06-29 18:00:00</td>\n",
       "      <td>1 days 00:00:00</td>\n",
       "      <td>1.0</td>\n",
       "    </tr>\n",
       "  </tbody>\n",
       "</table>\n",
       "</div>"
      ],
      "text/plain": [
       "        name       starting_date         ending_date   storm_duration  \\\n",
       "0    OPHELIA 2005-09-06 06:00:00 2005-09-22 18:00:00 16 days 12:00:00   \n",
       "1      IRENE 2005-08-04 18:00:00 2005-08-18 06:00:00 13 days 12:00:00   \n",
       "2     DENNIS 2005-07-04 18:00:00 2005-07-18 00:00:00 13 days 06:00:00   \n",
       "3      MARIA 2005-09-01 12:00:00 2005-09-13 18:00:00 12 days 06:00:00   \n",
       "4     HARVEY 2005-08-02 18:00:00 2005-08-13 18:00:00 11 days 00:00:00   \n",
       "5      WILMA 2005-10-15 18:00:00 2005-10-26 12:00:00 10 days 18:00:00   \n",
       "6      EMILY 2005-07-11 00:00:00 2005-07-21 06:00:00 10 days 06:00:00   \n",
       "7    EPSILON 2005-11-29 06:00:00 2005-12-09 12:00:00 10 days 06:00:00   \n",
       "8      DELTA 2005-11-19 12:00:00 2005-11-29 12:00:00 10 days 00:00:00   \n",
       "9   FRANKLIN 2005-07-21 18:00:00 2005-07-30 18:00:00  9 days 00:00:00   \n",
       "10      RITA 2005-09-18 00:00:00 2005-09-26 00:00:00  8 days 00:00:00   \n",
       "11     GAMMA 2005-11-14 00:00:00 2005-11-21 18:00:00  7 days 18:00:00   \n",
       "12   KATRINA 2005-08-23 18:00:00 2005-08-31 00:00:00  7 days 06:00:00   \n",
       "13     CINDY 2005-07-03 18:00:00 2005-07-11 00:00:00  7 days 06:00:00   \n",
       "14      NATE 2005-09-05 18:00:00 2005-09-12 12:00:00  6 days 18:00:00   \n",
       "15  PHILIPPE 2005-09-17 12:00:00 2005-09-24 00:00:00  6 days 12:00:00   \n",
       "16       LEE 2005-08-28 12:00:00 2005-09-03 12:00:00  6 days 00:00:00   \n",
       "17    ARLENE 2005-06-08 18:00:00 2005-06-14 00:00:00  5 days 06:00:00   \n",
       "18      BETA 2005-10-26 18:00:00 2005-10-30 18:00:00  4 days 00:00:00   \n",
       "19      STAN 2005-10-01 12:00:00 2005-10-05 00:00:00  3 days 12:00:00   \n",
       "20     VINCE 2005-10-08 06:00:00 2005-10-11 06:00:00  3 days 00:00:00   \n",
       "21     ALPHA 2005-10-22 12:00:00 2005-10-24 12:00:00  2 days 00:00:00   \n",
       "22      GERT 2005-07-23 18:00:00 2005-07-25 12:00:00  1 days 18:00:00   \n",
       "23     TAMMY 2005-10-05 06:00:00 2005-10-06 18:00:00  1 days 12:00:00   \n",
       "24   SUBTROP 2005-10-04 00:00:00 2005-10-05 06:00:00  1 days 06:00:00   \n",
       "25      BRET 2005-06-28 18:00:00 2005-06-29 18:00:00  1 days 00:00:00   \n",
       "\n",
       "    number_of_days  \n",
       "0             16.0  \n",
       "1             13.0  \n",
       "2             13.0  \n",
       "3             12.0  \n",
       "4             11.0  \n",
       "5             10.0  \n",
       "6             10.0  \n",
       "7             10.0  \n",
       "8             10.0  \n",
       "9              9.0  \n",
       "10             8.0  \n",
       "11             7.0  \n",
       "12             7.0  \n",
       "13             7.0  \n",
       "14             6.0  \n",
       "15             6.0  \n",
       "16             6.0  \n",
       "17             5.0  \n",
       "18             4.0  \n",
       "19             3.0  \n",
       "20             3.0  \n",
       "21             2.0  \n",
       "22             1.0  \n",
       "23             1.0  \n",
       "24             1.0  \n",
       "25             1.0  "
      ]
     },
     "execution_count": 45,
     "metadata": {},
     "output_type": "execute_result"
    }
   ],
   "source": [
    "storm_duration_north_atlantic_2005_dataframe = pd.read_sql_query(query_storm_duration_north_atlantic_2005,con=conn)\n",
    "storm_duration_north_atlantic_2005_dataframe"
   ]
  },
  {
   "cell_type": "code",
   "execution_count": 46,
   "metadata": {},
   "outputs": [
    {
     "data": {
      "image/png": "[encoded data removed]",
      "text/plain": [
       "<matplotlib.figure.Figure at 0x1d74adf9940>"
      ]
     },
     "metadata": {},
     "output_type": "display_data"
    }
   ],
   "source": [
    "plt.rcParams.update({'font.size': 15})\n",
    "\n",
    "\n",
    "ax = storm_duration_north_atlantic_2005_dataframe.plot.bar(x='name',\n",
    "                                y='number_of_days',\n",
    "                                figsize=(16,8),\n",
    "                                title=\"Storm Duration in North Atlantic in 2005\"\n",
    "                                )\n",
    "\n",
    "ax.legend().set_visible(False)\n",
    "\n",
    "ax.xaxis.set_label_text(\"\")\n",
    "ax.yaxis.set_label_text(\"number of days\")\n",
    "\n",
    "plt.show()"
   ]
  },
  {
   "cell_type": "markdown",
   "metadata": {},
   "source": [
    "Let's now calculate the average storm duration in North Atlantic in 2005 : "
   ]
  },
  {
   "cell_type": "code",
   "execution_count": 47,
   "metadata": {
    "collapsed": true
   },
   "outputs": [],
   "source": [
    "query_average_storm_duration_north_atlantic_2005 = '''\n",
    "\n",
    "WITH north_atlantic_2005_table AS\n",
    "\n",
    "(\n",
    "\n",
    "SELECT \n",
    "\n",
    "*\n",
    "\n",
    "FROM storm_table\n",
    "\n",
    "WHERE basin = 'North Atlantic'\n",
    "\n",
    "AND EXTRACT(YEAR FROM date) = 2005\n",
    "\n",
    "ORDER BY date\n",
    "\n",
    "),\n",
    "\n",
    "storm_duration_north_atlantic_2005_table AS \n",
    "\n",
    "(\n",
    "\n",
    "SELECT \n",
    "\n",
    "name,\n",
    "\n",
    "MIN(date) starting_date,\n",
    "\n",
    "MAX(date) ending_date,\n",
    "\n",
    "AGE(MAX(date), MIN(date)) storm_duration,\n",
    "\n",
    "EXTRACT(DAY FROM AGE(MAX(date), MIN(date))) number_of_days\n",
    "\n",
    "FROM north_atlantic_2005_table\n",
    "\n",
    "WHERE name != 'ZETA' AND name != 'JOSE'\n",
    "\n",
    "GROUP BY name\n",
    "\n",
    "ORDER BY storm_duration DESC\n",
    "\n",
    ")\n",
    "\n",
    "SELECT \n",
    "\n",
    "AVG(number_of_days) average_storm_duration_in_number_of_days\n",
    "\n",
    "FROM storm_duration_north_atlantic_2005_table\n",
    "\n",
    ";\n",
    "\n",
    "'''"
   ]
  },
  {
   "cell_type": "code",
   "execution_count": 48,
   "metadata": {},
   "outputs": [
    {
     "data": {
      "text/html": [
       "<div>\n",
       "<style scoped>\n",
       "    .dataframe tbody tr th:only-of-type {\n",
       "        vertical-align: middle;\n",
       "    }\n",
       "\n",
       "    .dataframe tbody tr th {\n",
       "        vertical-align: top;\n",
       "    }\n",
       "\n",
       "    .dataframe thead th {\n",
       "        text-align: right;\n",
       "    }\n",
       "</style>\n",
       "<table border=\"1\" class=\"dataframe\">\n",
       "  <thead>\n",
       "    <tr style=\"text-align: right;\">\n",
       "      <th></th>\n",
       "      <th>average_storm_duration_in_number_of_days</th>\n",
       "    </tr>\n",
       "  </thead>\n",
       "  <tbody>\n",
       "    <tr>\n",
       "      <th>0</th>\n",
       "      <td>7.0</td>\n",
       "    </tr>\n",
       "  </tbody>\n",
       "</table>\n",
       "</div>"
      ],
      "text/plain": [
       "   average_storm_duration_in_number_of_days\n",
       "0                                       7.0"
      ]
     },
     "execution_count": 48,
     "metadata": {},
     "output_type": "execute_result"
    }
   ],
   "source": [
    "pd.read_sql_query(query_average_storm_duration_north_atlantic_2005,con=conn)"
   ]
  },
  {
   "cell_type": "markdown",
   "metadata": {},
   "source": [
    "We can see here that the storm Katrina matches the average storm duration of 7 days."
   ]
  },
  {
   "cell_type": "markdown",
   "metadata": {},
   "source": [
    "### 5) <a id='#fifth_query'>Storm with the Lowest Barometric Pressure in North Atlantic</a>"
   ]
  },
  {
   "cell_type": "code",
   "execution_count": 49,
   "metadata": {
    "collapsed": true
   },
   "outputs": [],
   "source": [
    "query_lowest_barometric_pressure_north_atlantic = '''\n",
    "\n",
    "WITH north_atlantic_table AS\n",
    "\n",
    "(\n",
    "\n",
    "SELECT \n",
    "\n",
    "*\n",
    "\n",
    "FROM storm_table\n",
    "\n",
    "WHERE basin = 'North Atlantic'\n",
    "\n",
    "AND pressure > 0\n",
    "\n",
    ")\n",
    "\n",
    "SELECT \n",
    "\n",
    "name,\n",
    "\n",
    "cat category,\n",
    "\n",
    "pressure,\n",
    "\n",
    "date\n",
    "\n",
    "FROM north_atlantic_table\n",
    "\n",
    "WHERE pressure = \n",
    "\n",
    "(\n",
    "\n",
    "SELECT \n",
    "\n",
    "MIN(pressure)\n",
    "\n",
    "FROM north_atlantic_table\n",
    "\n",
    ")\n",
    "\n",
    ";\n",
    "\n",
    "'''"
   ]
  },
  {
   "cell_type": "code",
   "execution_count": 50,
   "metadata": {},
   "outputs": [
    {
     "data": {
      "text/html": [
       "<div>\n",
       "<style scoped>\n",
       "    .dataframe tbody tr th:only-of-type {\n",
       "        vertical-align: middle;\n",
       "    }\n",
       "\n",
       "    .dataframe tbody tr th {\n",
       "        vertical-align: top;\n",
       "    }\n",
       "\n",
       "    .dataframe thead th {\n",
       "        text-align: right;\n",
       "    }\n",
       "</style>\n",
       "<table border=\"1\" class=\"dataframe\">\n",
       "  <thead>\n",
       "    <tr style=\"text-align: right;\">\n",
       "      <th></th>\n",
       "      <th>name</th>\n",
       "      <th>category</th>\n",
       "      <th>pressure</th>\n",
       "      <th>date</th>\n",
       "    </tr>\n",
       "  </thead>\n",
       "  <tbody>\n",
       "    <tr>\n",
       "      <th>0</th>\n",
       "      <td>WILMA</td>\n",
       "      <td>H5</td>\n",
       "      <td>882</td>\n",
       "      <td>2005-10-19 12:00:00</td>\n",
       "    </tr>\n",
       "  </tbody>\n",
       "</table>\n",
       "</div>"
      ],
      "text/plain": [
       "    name category  pressure                date\n",
       "0  WILMA       H5       882 2005-10-19 12:00:00"
      ]
     },
     "execution_count": 50,
     "metadata": {},
     "output_type": "execute_result"
    }
   ],
   "source": [
    "pd.read_sql_query(query_lowest_barometric_pressure_north_atlantic,con=conn)"
   ]
  },
  {
   "cell_type": "markdown",
   "metadata": {},
   "source": [
    "### 6) <a id='#sixth_query'>Total Number of Days with a Named Storm in North Atlantic during the 2005 season</a>"
   ]
  },
  {
   "cell_type": "markdown",
   "metadata": {},
   "source": [
    "Let's find the total number of days with a named storm in the Atlantic basin during the 2005 season. The Atlantic season starts in June and runs until end of November. We will remove the categories E, W, L, SS, and SD from our analysis to keep only the relevant categories TD, TS, H1, H2, H3, H4, H5."
   ]
  },
  {
   "cell_type": "code",
   "execution_count": 51,
   "metadata": {
    "collapsed": true
   },
   "outputs": [],
   "source": [
    "total_number_of_days_with_named_storm_north_atlantic_2005 = '''\n",
    "\n",
    "WITH north_atlantic_2005_table AS\n",
    "\n",
    "(\n",
    "\n",
    "SELECT \n",
    "\n",
    "*\n",
    "\n",
    "FROM storm_table\n",
    "\n",
    "WHERE basin = 'North Atlantic'\n",
    "\n",
    "AND EXTRACT(YEAR from date) = 2005\n",
    "\n",
    "ORDER BY date\n",
    "\n",
    ")\n",
    "\n",
    "SELECT \n",
    "\n",
    "COUNT(DISTINCT(TO_CHAR(date, 'YYYY-MM-DD'))) total_number_of_days_with_named_storm__North_Altantic_2005\n",
    "\n",
    "FROM \n",
    "\n",
    "north_atlantic_2005_table\n",
    "\n",
    "WHERE date >= timestamp '2005-06-01 00:00:00' AND date < timestamp '2005-12-01 00:00:00'\n",
    "\n",
    "AND cat != 'E'\n",
    "\n",
    "AND cat != 'W'\n",
    "\n",
    "AND cat != 'L'\n",
    "\n",
    "AND cat != 'SS'\n",
    "\n",
    "AND cat != 'SD'\n",
    "\n",
    ";\n",
    "\n",
    "'''"
   ]
  },
  {
   "cell_type": "code",
   "execution_count": 52,
   "metadata": {},
   "outputs": [
    {
     "data": {
      "text/html": [
       "<div>\n",
       "<style scoped>\n",
       "    .dataframe tbody tr th:only-of-type {\n",
       "        vertical-align: middle;\n",
       "    }\n",
       "\n",
       "    .dataframe tbody tr th {\n",
       "        vertical-align: top;\n",
       "    }\n",
       "\n",
       "    .dataframe thead th {\n",
       "        text-align: right;\n",
       "    }\n",
       "</style>\n",
       "<table border=\"1\" class=\"dataframe\">\n",
       "  <thead>\n",
       "    <tr style=\"text-align: right;\">\n",
       "      <th></th>\n",
       "      <th>total_number_of_days_with_named_storm__north_altantic_2005</th>\n",
       "    </tr>\n",
       "  </thead>\n",
       "  <tbody>\n",
       "    <tr>\n",
       "      <th>0</th>\n",
       "      <td>128</td>\n",
       "    </tr>\n",
       "  </tbody>\n",
       "</table>\n",
       "</div>"
      ],
      "text/plain": [
       "   total_number_of_days_with_named_storm__north_altantic_2005\n",
       "0                                                128         "
      ]
     },
     "execution_count": 52,
     "metadata": {},
     "output_type": "execute_result"
    }
   ],
   "source": [
    "pd.read_sql_query(total_number_of_days_with_named_storm_north_atlantic_2005,con=conn)"
   ]
  },
  {
   "cell_type": "markdown",
   "metadata": {},
   "source": [
    "### 7) <a id='#seventh_query'>Hurricane Katrina </a>"
   ]
  },
  {
   "cell_type": "code",
   "execution_count": 53,
   "metadata": {
    "collapsed": true
   },
   "outputs": [],
   "source": [
    "query_katrina = '''\n",
    "\n",
    "WITH north_atlantic_2005_table AS\n",
    "\n",
    "(\n",
    "\n",
    "SELECT \n",
    "\n",
    "*\n",
    "\n",
    "FROM storm_table\n",
    "\n",
    "WHERE basin = 'North Atlantic'\n",
    "\n",
    "AND EXTRACT(YEAR from date) = 2005\n",
    "\n",
    "ORDER BY date\n",
    "\n",
    ")\n",
    "\n",
    "SELECT \n",
    "\n",
    "wind_kts,\n",
    "\n",
    "pressure,\n",
    "\n",
    "cat category,\n",
    "\n",
    "shape_leng shape_length,\n",
    "\n",
    "date\n",
    "\n",
    "FROM north_atlantic_2005_table\n",
    "\n",
    "WHERE name = 'KATRINA'\n",
    "\n",
    ";\n",
    "\n",
    "'''"
   ]
  },
  {
   "cell_type": "code",
   "execution_count": 54,
   "metadata": {},
   "outputs": [
    {
     "data": {
      "text/html": [
       "<div>\n",
       "<style scoped>\n",
       "    .dataframe tbody tr th:only-of-type {\n",
       "        vertical-align: middle;\n",
       "    }\n",
       "\n",
       "    .dataframe tbody tr th {\n",
       "        vertical-align: top;\n",
       "    }\n",
       "\n",
       "    .dataframe thead th {\n",
       "        text-align: right;\n",
       "    }\n",
       "</style>\n",
       "<table border=\"1\" class=\"dataframe\">\n",
       "  <thead>\n",
       "    <tr style=\"text-align: right;\">\n",
       "      <th></th>\n",
       "      <th>wind_kts</th>\n",
       "      <th>pressure</th>\n",
       "      <th>category</th>\n",
       "      <th>shape_length</th>\n",
       "      <th>date</th>\n",
       "    </tr>\n",
       "  </thead>\n",
       "  <tbody>\n",
       "    <tr>\n",
       "      <th>0</th>\n",
       "      <td>30</td>\n",
       "      <td>1008</td>\n",
       "      <td>TD</td>\n",
       "      <td>0.670820</td>\n",
       "      <td>2005-08-23 18:00:00</td>\n",
       "    </tr>\n",
       "    <tr>\n",
       "      <th>1</th>\n",
       "      <td>30</td>\n",
       "      <td>1007</td>\n",
       "      <td>TD</td>\n",
       "      <td>0.640312</td>\n",
       "      <td>2005-08-24 00:00:00</td>\n",
       "    </tr>\n",
       "    <tr>\n",
       "      <th>2</th>\n",
       "      <td>30</td>\n",
       "      <td>1007</td>\n",
       "      <td>TD</td>\n",
       "      <td>0.761577</td>\n",
       "      <td>2005-08-24 06:00:00</td>\n",
       "    </tr>\n",
       "    <tr>\n",
       "      <th>3</th>\n",
       "      <td>35</td>\n",
       "      <td>1006</td>\n",
       "      <td>TS</td>\n",
       "      <td>0.984886</td>\n",
       "      <td>2005-08-24 12:00:00</td>\n",
       "    </tr>\n",
       "    <tr>\n",
       "      <th>4</th>\n",
       "      <td>40</td>\n",
       "      <td>1003</td>\n",
       "      <td>TS</td>\n",
       "      <td>1.000000</td>\n",
       "      <td>2005-08-24 18:00:00</td>\n",
       "    </tr>\n",
       "    <tr>\n",
       "      <th>5</th>\n",
       "      <td>45</td>\n",
       "      <td>1000</td>\n",
       "      <td>TS</td>\n",
       "      <td>0.707107</td>\n",
       "      <td>2005-08-25 00:00:00</td>\n",
       "    </tr>\n",
       "    <tr>\n",
       "      <th>6</th>\n",
       "      <td>50</td>\n",
       "      <td>997</td>\n",
       "      <td>TS</td>\n",
       "      <td>0.608276</td>\n",
       "      <td>2005-08-25 06:00:00</td>\n",
       "    </tr>\n",
       "    <tr>\n",
       "      <th>7</th>\n",
       "      <td>55</td>\n",
       "      <td>994</td>\n",
       "      <td>TS</td>\n",
       "      <td>0.600000</td>\n",
       "      <td>2005-08-25 12:00:00</td>\n",
       "    </tr>\n",
       "    <tr>\n",
       "      <th>8</th>\n",
       "      <td>60</td>\n",
       "      <td>988</td>\n",
       "      <td>TS</td>\n",
       "      <td>0.761577</td>\n",
       "      <td>2005-08-25 18:00:00</td>\n",
       "    </tr>\n",
       "    <tr>\n",
       "      <th>9</th>\n",
       "      <td>70</td>\n",
       "      <td>983</td>\n",
       "      <td>H1</td>\n",
       "      <td>1.118034</td>\n",
       "      <td>2005-08-26 00:00:00</td>\n",
       "    </tr>\n",
       "    <tr>\n",
       "      <th>10</th>\n",
       "      <td>65</td>\n",
       "      <td>987</td>\n",
       "      <td>H1</td>\n",
       "      <td>0.761577</td>\n",
       "      <td>2005-08-26 06:00:00</td>\n",
       "    </tr>\n",
       "    <tr>\n",
       "      <th>11</th>\n",
       "      <td>75</td>\n",
       "      <td>979</td>\n",
       "      <td>H1</td>\n",
       "      <td>0.632456</td>\n",
       "      <td>2005-08-26 12:00:00</td>\n",
       "    </tr>\n",
       "    <tr>\n",
       "      <th>12</th>\n",
       "      <td>85</td>\n",
       "      <td>968</td>\n",
       "      <td>H2</td>\n",
       "      <td>0.761577</td>\n",
       "      <td>2005-08-26 18:00:00</td>\n",
       "    </tr>\n",
       "    <tr>\n",
       "      <th>13</th>\n",
       "      <td>90</td>\n",
       "      <td>959</td>\n",
       "      <td>H2</td>\n",
       "      <td>0.728011</td>\n",
       "      <td>2005-08-27 00:00:00</td>\n",
       "    </tr>\n",
       "    <tr>\n",
       "      <th>14</th>\n",
       "      <td>95</td>\n",
       "      <td>950</td>\n",
       "      <td>H2</td>\n",
       "      <td>0.700000</td>\n",
       "      <td>2005-08-27 06:00:00</td>\n",
       "    </tr>\n",
       "    <tr>\n",
       "      <th>15</th>\n",
       "      <td>100</td>\n",
       "      <td>942</td>\n",
       "      <td>H3</td>\n",
       "      <td>0.608276</td>\n",
       "      <td>2005-08-27 12:00:00</td>\n",
       "    </tr>\n",
       "    <tr>\n",
       "      <th>16</th>\n",
       "      <td>100</td>\n",
       "      <td>948</td>\n",
       "      <td>H3</td>\n",
       "      <td>0.670820</td>\n",
       "      <td>2005-08-27 18:00:00</td>\n",
       "    </tr>\n",
       "    <tr>\n",
       "      <th>17</th>\n",
       "      <td>100</td>\n",
       "      <td>941</td>\n",
       "      <td>H3</td>\n",
       "      <td>0.894427</td>\n",
       "      <td>2005-08-28 00:00:00</td>\n",
       "    </tr>\n",
       "    <tr>\n",
       "      <th>18</th>\n",
       "      <td>125</td>\n",
       "      <td>930</td>\n",
       "      <td>H4</td>\n",
       "      <td>1.118034</td>\n",
       "      <td>2005-08-28 06:00:00</td>\n",
       "    </tr>\n",
       "    <tr>\n",
       "      <th>19</th>\n",
       "      <td>145</td>\n",
       "      <td>909</td>\n",
       "      <td>H5</td>\n",
       "      <td>1.081665</td>\n",
       "      <td>2005-08-28 12:00:00</td>\n",
       "    </tr>\n",
       "    <tr>\n",
       "      <th>20</th>\n",
       "      <td>150</td>\n",
       "      <td>902</td>\n",
       "      <td>H5</td>\n",
       "      <td>1.081665</td>\n",
       "      <td>2005-08-28 18:00:00</td>\n",
       "    </tr>\n",
       "    <tr>\n",
       "      <th>21</th>\n",
       "      <td>140</td>\n",
       "      <td>905</td>\n",
       "      <td>H5</td>\n",
       "      <td>1.077033</td>\n",
       "      <td>2005-08-29 00:00:00</td>\n",
       "    </tr>\n",
       "    <tr>\n",
       "      <th>22</th>\n",
       "      <td>125</td>\n",
       "      <td>913</td>\n",
       "      <td>H4</td>\n",
       "      <td>1.300000</td>\n",
       "      <td>2005-08-29 06:00:00</td>\n",
       "    </tr>\n",
       "    <tr>\n",
       "      <th>23</th>\n",
       "      <td>110</td>\n",
       "      <td>923</td>\n",
       "      <td>H3</td>\n",
       "      <td>1.600000</td>\n",
       "      <td>2005-08-29 12:00:00</td>\n",
       "    </tr>\n",
       "    <tr>\n",
       "      <th>24</th>\n",
       "      <td>80</td>\n",
       "      <td>948</td>\n",
       "      <td>H1</td>\n",
       "      <td>1.581139</td>\n",
       "      <td>2005-08-29 18:00:00</td>\n",
       "    </tr>\n",
       "    <tr>\n",
       "      <th>25</th>\n",
       "      <td>50</td>\n",
       "      <td>961</td>\n",
       "      <td>TS</td>\n",
       "      <td>1.581139</td>\n",
       "      <td>2005-08-30 00:00:00</td>\n",
       "    </tr>\n",
       "    <tr>\n",
       "      <th>26</th>\n",
       "      <td>40</td>\n",
       "      <td>978</td>\n",
       "      <td>TS</td>\n",
       "      <td>1.615549</td>\n",
       "      <td>2005-08-30 06:00:00</td>\n",
       "    </tr>\n",
       "    <tr>\n",
       "      <th>27</th>\n",
       "      <td>30</td>\n",
       "      <td>985</td>\n",
       "      <td>TD</td>\n",
       "      <td>1.720465</td>\n",
       "      <td>2005-08-30 12:00:00</td>\n",
       "    </tr>\n",
       "    <tr>\n",
       "      <th>28</th>\n",
       "      <td>30</td>\n",
       "      <td>990</td>\n",
       "      <td>TD</td>\n",
       "      <td>2.334524</td>\n",
       "      <td>2005-08-30 18:00:00</td>\n",
       "    </tr>\n",
       "    <tr>\n",
       "      <th>29</th>\n",
       "      <td>30</td>\n",
       "      <td>994</td>\n",
       "      <td>E</td>\n",
       "      <td>2.830194</td>\n",
       "      <td>2005-08-31 00:00:00</td>\n",
       "    </tr>\n",
       "  </tbody>\n",
       "</table>\n",
       "</div>"
      ],
      "text/plain": [
       "    wind_kts  pressure category  shape_length                date\n",
       "0         30      1008       TD      0.670820 2005-08-23 18:00:00\n",
       "1         30      1007       TD      0.640312 2005-08-24 00:00:00\n",
       "2         30      1007       TD      0.761577 2005-08-24 06:00:00\n",
       "3         35      1006       TS      0.984886 2005-08-24 12:00:00\n",
       "4         40      1003       TS      1.000000 2005-08-24 18:00:00\n",
       "5         45      1000       TS      0.707107 2005-08-25 00:00:00\n",
       "6         50       997       TS      0.608276 2005-08-25 06:00:00\n",
       "7         55       994       TS      0.600000 2005-08-25 12:00:00\n",
       "8         60       988       TS      0.761577 2005-08-25 18:00:00\n",
       "9         70       983       H1      1.118034 2005-08-26 00:00:00\n",
       "10        65       987       H1      0.761577 2005-08-26 06:00:00\n",
       "11        75       979       H1      0.632456 2005-08-26 12:00:00\n",
       "12        85       968       H2      0.761577 2005-08-26 18:00:00\n",
       "13        90       959       H2      0.728011 2005-08-27 00:00:00\n",
       "14        95       950       H2      0.700000 2005-08-27 06:00:00\n",
       "15       100       942       H3      0.608276 2005-08-27 12:00:00\n",
       "16       100       948       H3      0.670820 2005-08-27 18:00:00\n",
       "17       100       941       H3      0.894427 2005-08-28 00:00:00\n",
       "18       125       930       H4      1.118034 2005-08-28 06:00:00\n",
       "19       145       909       H5      1.081665 2005-08-28 12:00:00\n",
       "20       150       902       H5      1.081665 2005-08-28 18:00:00\n",
       "21       140       905       H5      1.077033 2005-08-29 00:00:00\n",
       "22       125       913       H4      1.300000 2005-08-29 06:00:00\n",
       "23       110       923       H3      1.600000 2005-08-29 12:00:00\n",
       "24        80       948       H1      1.581139 2005-08-29 18:00:00\n",
       "25        50       961       TS      1.581139 2005-08-30 00:00:00\n",
       "26        40       978       TS      1.615549 2005-08-30 06:00:00\n",
       "27        30       985       TD      1.720465 2005-08-30 12:00:00\n",
       "28        30       990       TD      2.334524 2005-08-30 18:00:00\n",
       "29        30       994        E      2.830194 2005-08-31 00:00:00"
      ]
     },
     "execution_count": 54,
     "metadata": {},
     "output_type": "execute_result"
    }
   ],
   "source": [
    "katrina_dataframe = pd.read_sql_query(query_katrina,con=conn)\n",
    "katrina_dataframe"
   ]
  },
  {
   "cell_type": "code",
   "execution_count": 55,
   "metadata": {
    "scrolled": false
   },
   "outputs": [
    {
     "data": {
      "image/png": "[encoded data removed]",
      "text/plain": [
       "<matplotlib.figure.Figure at 0x1d74ae9a048>"
      ]
     },
     "metadata": {},
     "output_type": "display_data"
    }
   ],
   "source": [
    "from matplotlib.pyplot import figure\n",
    "figure(figsize=(16, 6), dpi=100)\n",
    "plt.scatter(x = \"wind_kts\", y = \"pressure\", data = katrina_dataframe)\n",
    "plt.title(\"Statistics on Hurricane Katrina (2005)\")\n",
    "plt.xlabel(\"wind speed (kts)\")\n",
    "plt.ylabel(\"atmospheric pressure (mbar)\")\n",
    "plt.show()"
   ]
  },
  {
   "cell_type": "code",
   "execution_count": 56,
   "metadata": {
    "collapsed": true
   },
   "outputs": [],
   "source": [
    "conn.close()"
   ]
  }
 ],
 "metadata": {
  "kernelspec": {
   "display_name": "Python 3",
   "language": "python",
   "name": "python3"
  },
  "language_info": {
   "codemirror_mode": {
    "name": "ipython",
    "version": 3
   },
   "file_extension": ".py",
   "mimetype": "text/x-python",
   "name": "python",
   "nbconvert_exporter": "python",
   "pygments_lexer": "ipython3",
   "version": "3.6.3"
  }
 },
 "nbformat": 4,
 "nbformat_minor": 2
}
